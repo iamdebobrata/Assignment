{
 "cells": [
  {
   "cell_type": "markdown",
   "id": "ef44ccfc-6376-4d25-8279-9ed6d204a5b0",
   "metadata": {},
   "source": [
    "Q1. Explain with an example each when to use a for loop and a while loop."
   ]
  },
  {
   "cell_type": "markdown",
   "id": "debd7480-d70f-4638-8560-0f67433c36ff",
   "metadata": {},
   "source": [
    "Answer:-\n",
    "1. When to use a for loop:\n",
    "\n",
    "Use a for loop when you know the number of iterations or when you want to iterate over a sequence a specific number of times.\n",
    "\n",
    "Example:\n",
    "\n",
    "for i in range(1, 6):\n",
    "    print(i)\n",
    "\n",
    "In this example, we know that we want to iterate from 1 to 5, so a for loop is appropriate.\n",
    "\n",
    "2. When to use a while loop:\n",
    "\n",
    "Use a while loop when you want to iterate as long as a certain condition is true, and you don't know in advance how many iterations will be required.\n",
    "\n",
    "Example:\n",
    "\n",
    "n = 5\n",
    "sum = 0\n",
    "while n > 0:\n",
    "    sum += n\n",
    "    n -= 1\n",
    "print(\"The sum is:\", sum)\n",
    "\n",
    "In this example, we want to sum numbers from 1 to n, and we keep subtracting 1 from n in each iteration until n becomes 0. We don't know the exact number of iterations in advance; it depends on the value of n, so a while loop is suitable."
   ]
  },
  {
   "cell_type": "markdown",
   "id": "d034bff6-ab66-4099-8360-a9b4608bc325",
   "metadata": {},
   "source": [
    "Q2. Write a python program to print the sum and product of the first 10 natural numbers using for and while loop."
   ]
  },
  {
   "cell_type": "code",
   "execution_count": 1,
   "id": "1adb7e91-6e6f-4d52-a429-34e5d02d73b7",
   "metadata": {},
   "outputs": [
    {
     "name": "stdout",
     "output_type": "stream",
     "text": [
      "The sum of 10 Natural number are: 55\n",
      "The product of 10 Natural number are: 3628800\n"
     ]
    }
   ],
   "source": [
    "# using for loop\n",
    "add = 0\n",
    "mul = 1\n",
    "for i in range(1,11):\n",
    "    add = add + i\n",
    "    mul = mul * i\n",
    "print(\"The sum of 10 Natural number are:\",add)\n",
    "print(\"The product of 10 Natural number are:\",mul)"
   ]
  },
  {
   "cell_type": "code",
   "execution_count": 2,
   "id": "176f9aeb-f8fe-41db-93ff-13c1f85f8aed",
   "metadata": {},
   "outputs": [
    {
     "name": "stdout",
     "output_type": "stream",
     "text": [
      "The sum of 10 Natural number are: 55\n",
      "The product of 10 Natural number are: 3628800\n"
     ]
    }
   ],
   "source": [
    "# using while loop\n",
    "add = 0\n",
    "mul = 1\n",
    "counter = 1\n",
    "while counter <=10 :\n",
    "    add = add + counter\n",
    "    mul = mul * counter\n",
    "    counter = counter + 1   \n",
    "print(\"The sum of 10 Natural number are:\",add)\n",
    "print(\"The product of 10 Natural number are:\",mul)"
   ]
  },
  {
   "cell_type": "markdown",
   "id": "abb63ed6-1723-4e53-8b95-bf37c15eee26",
   "metadata": {},
   "source": [
    "Q3. Create a python program to compute the electricity bill for a household.\n",
    "Create a list of numbers from 1 to 100. Use for loop and while loop to calculate the cube of each number and if the cube of that number is divisible by 4 or 5 then append that number in a list and print that list. The per-unit charges in rupees are as follows: For the first 100 units, the user will be charged Rs. 4.5 per unit, for the next 100 units, the user will be charged Rs. 6 per unit, and for the next 100 units, the user will be charged Rs. 10 per unit, After 300 units and above the user will be charged Rs. 20 per unit. You are required to take the units of electricity consumed in a month from the user as input. \n",
    "Your program must pass this test case: when the unit of electricity consumed by the user in a month is 310, the total electricity bill should be 2250."
   ]
  },
  {
   "cell_type": "code",
   "execution_count": 3,
   "id": "55934ca7-2d7c-4ff6-b916-b941cbb56d30",
   "metadata": {},
   "outputs": [
    {
     "name": "stdin",
     "output_type": "stream",
     "text": [
      "Enter the total unit: 310\n"
     ]
    },
    {
     "name": "stdout",
     "output_type": "stream",
     "text": [
      "2250\n"
     ]
    }
   ],
   "source": [
    "unit = int(input(\"Enter the total unit:\"))\n",
    "\n",
    "if unit > 300 :\n",
    "    price = 2050 + (unit - 300)*20\n",
    "    print(price)\n",
    "elif unit <= 300 and unit > 200:\n",
    "    price = 1050 + (unit - 200)*10\n",
    "    print(price)\n",
    "elif unit <= 200 and unit > 100:\n",
    "    price = 450 + (unit - 100)*6\n",
    "    print(price)\n",
    "else:\n",
    "    price = unit*4.5\n",
    "    print(price)"
   ]
  },
  {
   "cell_type": "raw",
   "id": "99f3c3ed-7249-4325-8634-4f40671335c3",
   "metadata": {},
   "source": [
    "Q4. Create a list of numbers from 1 to 100. Use for loop and while loop to calculate the cube of each number and if the cube of that number is divisible by 4 or 5 then append that number in a list and print that list."
   ]
  },
  {
   "cell_type": "code",
   "execution_count": 4,
   "id": "dfaeffaf-65b5-4971-8c57-40b78673f2d8",
   "metadata": {},
   "outputs": [
    {
     "name": "stdout",
     "output_type": "stream",
     "text": [
      "[8, 64, 125, 216, 512, 1000, 1728, 2744, 3375, 4096, 5832, 8000, 10648, 13824, 15625, 17576, 21952, 27000, 32768, 39304, 42875, 46656, 54872, 64000, 74088, 85184, 91125, 97336, 110592, 125000, 140608, 157464, 166375, 175616, 195112, 216000, 238328, 262144, 274625, 287496, 314432, 343000, 373248, 405224, 421875, 438976, 474552, 512000, 551368, 592704, 614125, 636056, 681472, 729000, 778688, 830584, 857375, 884736, 941192, 1000000]\n"
     ]
    }
   ],
   "source": [
    "# using for loop\n",
    "\n",
    "result_list = []\n",
    "for i in range(1,101,1) :\n",
    "    cube = i**3\n",
    "    if cube % 4 == 0 or cube % 5 == 0:\n",
    "        result_list.append(cube)\n",
    "print(result_list)"
   ]
  },
  {
   "cell_type": "code",
   "execution_count": 5,
   "id": "4cff6c02-c5d0-4a7a-a892-0df8da7878ae",
   "metadata": {},
   "outputs": [
    {
     "name": "stdout",
     "output_type": "stream",
     "text": [
      "[8, 64, 125, 216, 512, 1000, 1728, 2744, 3375, 4096, 5832, 8000, 10648, 13824, 15625, 17576, 21952, 27000, 32768, 39304, 42875, 46656, 54872, 64000, 74088, 85184, 91125, 97336, 110592, 125000, 140608, 157464, 166375, 175616, 195112, 216000, 238328, 262144, 274625, 287496, 314432, 343000, 373248, 405224, 421875, 438976, 474552, 512000, 551368, 592704, 614125, 636056, 681472, 729000, 778688, 830584, 857375, 884736, 941192, 1000000]\n"
     ]
    }
   ],
   "source": [
    "#using while loop\n",
    "\n",
    "result_list = []\n",
    "num = 1\n",
    "while num <= 100:\n",
    "    cube = num**3\n",
    "    num = num + 1\n",
    "    if cube % 4 == 0 or cube % 5 == 0:\n",
    "        result_list.append(cube)\n",
    "print(result_list)"
   ]
  },
  {
   "cell_type": "raw",
   "id": "7411e27d-5526-467a-869b-826b59d3b13c",
   "metadata": {},
   "source": [
    "Q5. Write a program to filter count vowels in the below-given string.\n",
    "string = \"I want to become a data scientist\""
   ]
  },
  {
   "cell_type": "code",
   "execution_count": 6,
   "id": "78c3d17d-5eed-48e5-aa63-6f4f1832ddcb",
   "metadata": {},
   "outputs": [
    {
     "name": "stdin",
     "output_type": "stream",
     "text": [
      "Enter a string: I want to become a data scientist\n"
     ]
    },
    {
     "name": "stdout",
     "output_type": "stream",
     "text": [
      "Vowels presents in this string are: 12\n"
     ]
    }
   ],
   "source": [
    "s = input(\"Enter a string:\")\n",
    "counter = 0\n",
    "vowel = {\"a\",\"e\",\"i\",\"o\",\"u\",\"A\",\"E\",\"I\",\"O\",\"U\"}\n",
    "for i in s :\n",
    "    if i in vowel:\n",
    "        counter += 1\n",
    "print(\"Vowels presents in this string are:\", counter)"
   ]
  }
 ],
 "metadata": {
  "kernelspec": {
   "display_name": "Python 3 (ipykernel)",
   "language": "python",
   "name": "python3"
  },
  "language_info": {
   "codemirror_mode": {
    "name": "ipython",
    "version": 3
   },
   "file_extension": ".py",
   "mimetype": "text/x-python",
   "name": "python",
   "nbconvert_exporter": "python",
   "pygments_lexer": "ipython3",
   "version": "3.10.8"
  }
 },
 "nbformat": 4,
 "nbformat_minor": 5
}
