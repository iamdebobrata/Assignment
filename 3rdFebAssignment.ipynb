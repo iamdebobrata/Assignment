{
 "cells": [
  {
   "cell_type": "markdown",
   "id": "344bd4e5-35f2-47f9-86fe-ebf1c34af8ef",
   "metadata": {},
   "source": [
    "# Q1\n",
    "Ans:-'def' keyword is used to create a function."
   ]
  },
  {
   "cell_type": "code",
   "execution_count": 1,
   "id": "f65f1f14-1402-45f2-a7bc-2655477a1c69",
   "metadata": {},
   "outputs": [
    {
     "name": "stdin",
     "output_type": "stream",
     "text": [
      "Enter the range: 25\n"
     ]
    },
    {
     "name": "stdout",
     "output_type": "stream",
     "text": [
      "Odd numbers in the range 1 to 25 is: [2, 4, 6, 8, 10, 12, 14, 16, 18, 20, 22, 24]\n"
     ]
    }
   ],
   "source": [
    "# Q1\n",
    "def odd_numbers():\n",
    "    limit = int(input(\"Enter the range:\"))\n",
    "    l = []\n",
    "    for i in range(1,limit):\n",
    "        if i % 2 == 0 :\n",
    "            l.append(i)\n",
    "    print(\"Odd numbers in the range 1 to\", limit, \"is:\", l)\n",
    "\n",
    "odd_numbers()"
   ]
  },
  {
   "cell_type": "markdown",
   "id": "ff13d013-1a62-4f53-a2a1-1cca18d5a973",
   "metadata": {},
   "source": [
    "# Q2\n",
    "Ans:- '*args' and '**kwargs' are used in some functions to make them more flexible and capable of accepting a variable number of arguments, both positional and keyword arguments"
   ]
  },
  {
   "cell_type": "code",
   "execution_count": 2,
   "id": "3fae3aab-84ee-4aa4-81dd-0b61e37c86b9",
   "metadata": {},
   "outputs": [
    {
     "name": "stdout",
     "output_type": "stream",
     "text": [
      "Sum: 8\n",
      "Sum: 22\n",
      "Sum: 17\n"
     ]
    }
   ],
   "source": [
    "# Q2\n",
    "def adder(*num):\n",
    "    sum = 0\n",
    "    for n in num:\n",
    "        sum = sum + n\n",
    "    print(\"Sum:\",sum)\n",
    "\n",
    "adder(3,5)\n",
    "adder(4,5,6,7)\n",
    "adder(1,2,3,5,6)"
   ]
  },
  {
   "cell_type": "code",
   "execution_count": 3,
   "id": "d0ee6f3e-d81c-48ce-b61b-fb7ce69a5f69",
   "metadata": {},
   "outputs": [
    {
     "name": "stdout",
     "output_type": "stream",
     "text": [
      "Firstname is Sita\n",
      "Lastname is Sharma\n",
      "Age is 22\n",
      "Phone is 1234567890\n",
      "\n",
      "Firstname is John\n",
      "Lastname is Wood\n",
      "Email is johnwood@nomail.com\n",
      "Country is Wakanda\n",
      "Age is 25\n",
      "Phone is 9876543210\n"
     ]
    }
   ],
   "source": [
    "# Q2\n",
    "def intro(**data):\n",
    "    for key, value in data.items():\n",
    "        print(\"{} is {}\".format(key,value))\n",
    "\n",
    "intro(Firstname=\"Sita\", Lastname=\"Sharma\", Age=22, Phone=1234567890)\n",
    "print()\n",
    "intro(Firstname=\"John\", Lastname=\"Wood\", Email=\"johnwood@nomail.com\", Country=\"Wakanda\", Age=25, Phone=9876543210)"
   ]
  },
  {
   "cell_type": "markdown",
   "id": "cc62d360-c7d9-47b1-ab31-eba5446519ed",
   "metadata": {},
   "source": [
    "# Q3\n",
    "Ans:- An iterator in Python is an object that allows you to traverse a sequence of data one element at a time. You initialize an iterator object using the iter() method, and you iterate over its elements using the next() method."
   ]
  },
  {
   "cell_type": "code",
   "execution_count": 4,
   "id": "e6173688-8ded-4b46-b553-f9b608b92426",
   "metadata": {},
   "outputs": [
    {
     "name": "stdout",
     "output_type": "stream",
     "text": [
      "2\n",
      "4\n",
      "6\n",
      "8\n",
      "10\n"
     ]
    }
   ],
   "source": [
    "# Q3\n",
    "l = [2, 4, 6, 8, 10, 12, 14, 16, 18, 20]\n",
    "iterator = iter(l)\n",
    "for _ in range(5):\n",
    "    elements = next(iterator)\n",
    "    print(elements)"
   ]
  },
  {
   "cell_type": "markdown",
   "id": "cce1d058-42c7-4279-ad71-3bec030f24a0",
   "metadata": {},
   "source": [
    "# Q4\n",
    "Ans:-A generator function in Python uses the 'yield' keyword to yield values one at a time as you iterate over them. It's used for memory-efficient iteration over potentially large sequences. "
   ]
  },
  {
   "cell_type": "code",
   "execution_count": 5,
   "id": "281a4ef3-845e-43ed-ae7b-80250cb0c8dd",
   "metadata": {},
   "outputs": [
    {
     "name": "stdout",
     "output_type": "stream",
     "text": [
      "5\n",
      "4\n",
      "3\n",
      "2\n",
      "1\n"
     ]
    }
   ],
   "source": [
    "# Q4\n",
    "def countdown(n):\n",
    "    while n > 0:\n",
    "        yield n\n",
    "        n -= 1\n",
    "\n",
    "counter = countdown(5)\n",
    "\n",
    "for value in counter:\n",
    "    print(value)\n"
   ]
  },
  {
   "cell_type": "markdown",
   "id": "ac72d310-dde0-4f98-8a45-ead4c9ff14cb",
   "metadata": {},
   "source": [
    "# Q5"
   ]
  },
  {
   "cell_type": "code",
   "execution_count": 6,
   "id": "20c86747-7c7d-4f87-ad76-268517513504",
   "metadata": {},
   "outputs": [
    {
     "name": "stdout",
     "output_type": "stream",
     "text": [
      "Prime numbers from 2 to 1000: [2, 3, 5, 7, 11, 13, 17, 19, 23, 29, 31, 37, 41, 43, 47, 53, 59, 61, 67, 71, 73, 79, 83, 89, 97, 101, 103, 107, 109, 113, 127, 131, 137, 139, 149, 151, 157, 163, 167, 173, 179, 181, 191, 193, 197, 199, 211, 223, 227, 229, 233, 239, 241, 251, 257, 263, 269, 271, 277, 281, 283, 293, 307, 311, 313, 317, 331, 337, 347, 349, 353, 359, 367, 373, 379, 383, 389, 397, 401, 409, 419, 421, 431, 433, 439, 443, 449, 457, 461, 463, 467, 479, 487, 491, 499, 503, 509, 521, 523, 541, 547, 557, 563, 569, 571, 577, 587, 593, 599, 601, 607, 613, 617, 619, 631, 641, 643, 647, 653, 659, 661, 673, 677, 683, 691, 701, 709, 719, 727, 733, 739, 743, 751, 757, 761, 769, 773, 787, 797, 809, 811, 821, 823, 827, 829, 839, 853, 857, 859, 863, 877, 881, 883, 887, 907, 911, 919, 929, 937, 941, 947, 953, 967, 971, 977, 983, 991, 997]\n",
      "\n",
      "First 20 prime Numbers: [2, 3, 5, 7, 11, 13, 17, 19, 23, 29, 31, 37, 41, 43, 47, 53, 59, 61, 67, 71]\n"
     ]
    }
   ],
   "source": [
    "# Q5\n",
    "def is_prime(num):\n",
    "    if num <= 1:\n",
    "        return False\n",
    "    for i in range(2, int(num ** 0.5) + 1):\n",
    "        if num % i == 0:\n",
    "            return False\n",
    "    return True\n",
    "\n",
    "def prime_generator(limit):\n",
    "    for i in range(2, limit + 1):\n",
    "        if is_prime(i):\n",
    "            yield i\n",
    "\n",
    "prime_numbers_gen = prime_generator(1000)\n",
    "print(\"Prime numbers from 2 to 1000:\",list(prime_numbers_gen))\n",
    "\n",
    "def prime_generator():\n",
    "    num = 2\n",
    "    count = 0\n",
    "    while count < 20:\n",
    "        if is_prime(num):\n",
    "            yield num\n",
    "            count += 1\n",
    "        num += 1\n",
    "\n",
    "prime_gen = prime_generator()\n",
    "print(\"\\nFirst 20 prime Numbers:\",list(prime_gen))"
   ]
  },
  {
   "cell_type": "markdown",
   "id": "ec90927a-38f9-42f6-8d67-548fab9fead4",
   "metadata": {},
   "source": [
    "# Q6"
   ]
  },
  {
   "cell_type": "code",
   "execution_count": 7,
   "id": "98c1c6ab-cf99-4dbe-b391-4f80d0beeb66",
   "metadata": {},
   "outputs": [
    {
     "name": "stdout",
     "output_type": "stream",
     "text": [
      "0\n",
      "1\n",
      "1\n",
      "2\n",
      "3\n",
      "5\n",
      "8\n",
      "13\n",
      "21\n",
      "34\n",
      "55\n"
     ]
    }
   ],
   "source": [
    "# Q6\n",
    "prev_num , next_num = 0 , 1\n",
    "counter = 0\n",
    "while counter <= 10:\n",
    "    print(prev_num)\n",
    "    fib = prev_num + next_num\n",
    "    prev_num = next_num\n",
    "    next_num = fib\n",
    "    counter += 1"
   ]
  },
  {
   "cell_type": "markdown",
   "id": "3fe2dc16-4b12-41fe-bca5-71d5ce0d7b02",
   "metadata": {},
   "source": [
    "# Q7"
   ]
  },
  {
   "cell_type": "code",
   "execution_count": 8,
   "id": "94b88820-767a-48e7-ba21-63e7b3b23ce6",
   "metadata": {},
   "outputs": [
    {
     "name": "stdout",
     "output_type": "stream",
     "text": [
      "['p', 'w', 's', 'k', 'i', 'l', 'l', 's']\n"
     ]
    }
   ],
   "source": [
    "# Q7\n",
    "s = \"pwskills\"\n",
    "l = list(i for i in s)\n",
    "print(l)"
   ]
  },
  {
   "cell_type": "markdown",
   "id": "20f1fef2-b8c4-4e69-938b-124305cbb91c",
   "metadata": {},
   "source": [
    "# Q8"
   ]
  },
  {
   "cell_type": "code",
   "execution_count": 9,
   "id": "31b51dd9-8b9b-447d-915d-f6b85528a10d",
   "metadata": {},
   "outputs": [
    {
     "name": "stdin",
     "output_type": "stream",
     "text": [
      "Enter a number: 2120990212\n"
     ]
    },
    {
     "name": "stdout",
     "output_type": "stream",
     "text": [
      "2120990212 is palindrome.\n"
     ]
    }
   ],
   "source": [
    "# Q8\n",
    "number = int(input(\"Enter a number:\"))\n",
    "original_number = number\n",
    "rev_number = 0\n",
    "while number > 0:\n",
    "    digit = number % 10\n",
    "    rev_number = (rev_number * 10) + digit\n",
    "    number = number // 10\n",
    "if original_number == rev_number:\n",
    "    print(original_number, \"is palindrome.\")\n",
    "else:\n",
    "    print(original_number, \"is not palindrome.\")"
   ]
  },
  {
   "cell_type": "markdown",
   "id": "2fb8d4f9-fee9-43d2-92fe-716aa1094ce0",
   "metadata": {},
   "source": [
    "# Q9"
   ]
  },
  {
   "cell_type": "code",
   "execution_count": 10,
   "id": "d850854e-87bf-48c8-af2e-cd223de226a7",
   "metadata": {},
   "outputs": [
    {
     "name": "stdout",
     "output_type": "stream",
     "text": [
      "[1, 3, 5, 7, 9, 11, 13, 15, 17, 19, 21, 23, 25, 27, 29, 31, 33, 35, 37, 39, 41, 43, 45, 47, 49, 51, 53, 55, 57, 59, 61, 63, 65, 67, 69, 71, 73, 75, 77, 79, 81, 83, 85, 87, 89, 91, 93, 95, 97, 99]\n"
     ]
    }
   ],
   "source": [
    "# Q9\n",
    "l = list(range(1,101))\n",
    "l1 = [i for i in l if i % 2 != 0]\n",
    "print(l1)"
   ]
  }
 ],
 "metadata": {
  "kernelspec": {
   "display_name": "Python 3 (ipykernel)",
   "language": "python",
   "name": "python3"
  },
  "language_info": {
   "codemirror_mode": {
    "name": "ipython",
    "version": 3
   },
   "file_extension": ".py",
   "mimetype": "text/x-python",
   "name": "python",
   "nbconvert_exporter": "python",
   "pygments_lexer": "ipython3",
   "version": "3.10.8"
  }
 },
 "nbformat": 4,
 "nbformat_minor": 5
}
