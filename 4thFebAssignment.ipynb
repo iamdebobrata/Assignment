{
 "cells": [
  {
   "cell_type": "code",
   "execution_count": 1,
   "id": "c8dd7be6-b68c-4738-843f-75364b8ad5c5",
   "metadata": {},
   "outputs": [
    {
     "name": "stdout",
     "output_type": "stream",
     "text": [
      "[('Virat Kohli', 24936), ('Jack Kallis', 25534), ('Ricky Ponting', 27483), ('Sachin Tendulkar', 34357)]\n"
     ]
    }
   ],
   "source": [
    "# q1\n",
    "l = [('Sachin Tendulkar', 34357), ('Ricky Ponting', 27483), ('Jack Kallis', 25534), ('Virat Kohli', 24936)]\n",
    "sorted_data = sorted(l, key=lambda x: x[1])\n",
    "print(sorted_data)"
   ]
  },
  {
   "cell_type": "code",
   "execution_count": 2,
   "id": "5cc2293f-acfd-48e7-b786-7c5dfb2ef05c",
   "metadata": {},
   "outputs": [
    {
     "data": {
      "text/plain": [
       "[1, 4, 9, 16, 25, 36, 49, 64, 81, 100]"
      ]
     },
     "execution_count": 2,
     "metadata": {},
     "output_type": "execute_result"
    }
   ],
   "source": [
    "#q2\n",
    "l = [1, 2, 3, 4, 5, 6, 7, 8, 9, 10]\n",
    "list(map(lambda x : x ** 2 , l ))"
   ]
  },
  {
   "cell_type": "code",
   "execution_count": 3,
   "id": "13aaaeba-b1a4-4c6a-8795-47e5d717a67c",
   "metadata": {},
   "outputs": [
    {
     "data": {
      "text/plain": [
       "(1, 2, 3, 4, 5, 6, 7, 8, 9, 10)"
      ]
     },
     "execution_count": 3,
     "metadata": {},
     "output_type": "execute_result"
    }
   ],
   "source": [
    "# q3\n",
    "l = [1, 2, 3, 4, 5, 6, 7, 8, 9, 10]\n",
    "tuple(map(lambda x : x , l ))"
   ]
  },
  {
   "cell_type": "code",
   "execution_count": 4,
   "id": "d5c12201-5cbc-4b63-aa75-70b29b7bc789",
   "metadata": {},
   "outputs": [
    {
     "name": "stdout",
     "output_type": "stream",
     "text": [
      "The product of 1 to 25 are: 15511210043330985984000000\n"
     ]
    }
   ],
   "source": [
    "# q4\n",
    "from functools import reduce\n",
    "# l = list(range(1,26,1))\n",
    "l = []\n",
    "for i in range(1,26,1):\n",
    "    l.append(i)\n",
    "product = reduce(lambda x , y : x * y, l)\n",
    "print(\"The product of 1 to 25 are:\", product)"
   ]
  },
  {
   "cell_type": "code",
   "execution_count": 5,
   "id": "87a09f80-1c5c-425e-85ae-58c879abdecd",
   "metadata": {},
   "outputs": [
    {
     "data": {
      "text/plain": [
       "[6, 60, 90, 120]"
      ]
     },
     "execution_count": 5,
     "metadata": {},
     "output_type": "execute_result"
    }
   ],
   "source": [
    "# q5\n",
    "l = [2, 3, 6, 9, 27, 60, 90, 120, 55, 46]\n",
    "list(filter(lambda x : x if x % 2 == 0 and x % 3 == 0 else None, l))"
   ]
  },
  {
   "cell_type": "code",
   "execution_count": 6,
   "id": "c4e677b0-6da5-4621-8bed-d65a2aa25e75",
   "metadata": {},
   "outputs": [
    {
     "data": {
      "text/plain": [
       "['php', 'aba', 'radar', 'level']"
      ]
     },
     "execution_count": 6,
     "metadata": {},
     "output_type": "execute_result"
    }
   ],
   "source": [
    "# q6\n",
    "l = ['python', 'php', 'aba', 'radar', 'level']\n",
    "list(filter(lambda x : x if x[::] == x[::-1] else None, l ))"
   ]
  },
  {
   "cell_type": "code",
   "execution_count": null,
   "id": "c57b0b1f-c6b8-480c-91f4-52d44c4977b3",
   "metadata": {},
   "outputs": [],
   "source": []
  }
 ],
 "metadata": {
  "kernelspec": {
   "display_name": "Python 3 (ipykernel)",
   "language": "python",
   "name": "python3"
  },
  "language_info": {
   "codemirror_mode": {
    "name": "ipython",
    "version": 3
   },
   "file_extension": ".py",
   "mimetype": "text/x-python",
   "name": "python",
   "nbconvert_exporter": "python",
   "pygments_lexer": "ipython3",
   "version": "3.10.8"
  }
 },
 "nbformat": 4,
 "nbformat_minor": 5
}
